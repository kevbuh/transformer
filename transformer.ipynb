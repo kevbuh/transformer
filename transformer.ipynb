{
 "cells": [
  {
   "cell_type": "markdown",
   "metadata": {},
   "source": [
    "PyTorch Transformer from Scratch "
   ]
  },
  {
   "cell_type": "code",
   "execution_count": 1,
   "metadata": {},
   "outputs": [
    {
     "name": "stderr",
     "output_type": "stream",
     "text": [
      "/Library/Frameworks/Python.framework/Versions/3.10/lib/python3.10/site-packages/tqdm/auto.py:22: TqdmWarning: IProgress not found. Please update jupyter and ipywidgets. See https://ipywidgets.readthedocs.io/en/stable/user_install.html\n",
      "  from .autonotebook import tqdm as notebook_tqdm\n"
     ]
    }
   ],
   "source": [
    "import torch\n",
    "import torch.nn as nn\n",
    "\n",
    "class SelfAttention(nn.Module):\n",
    "  def __init__(self, embed_size, heads):\n",
    "    # initialize parent class\n",
    "    super(SelfAttention, self).__init__()\n",
    "    self.embed_size = embed_size\n",
    "    self.heads = heads\n",
    "    self.head_dim = embed_size // heads\n",
    "\n",
    "    # check that 256 embedding size can't be split into 7 parts, or any other number that is not possible\n",
    "    assert (self.head_dim * heads == embed_size), \"Incorrect embedding size. Needs to be divisible by heads\"\n",
    "    \n",
    "    # linear layer that we send out VKQ through\n",
    "    # defining VKQ below\n",
    "    self.values = nn.Linear(self.head_dim, self.head_dim, bias=False)\n",
    "    self.keys = nn.Linear(self.head_dim, self.head_dim, bias=False)\n",
    "    self.queries = nn.Linear(self.head_dim, self.head_dim, bias=False)\n",
    "    self.fc_out = nn.Linear(heads*self.head_dim, embed_size)\n",
    "\n",
    "  def forward(self, values, keys, query, mask):\n",
    "    # define number of training examples\n",
    "    N = query.shape[0]\n",
    "    value_len, key_len, query_len = values.shape[1], keys.shape[1], query.shape[1]\n",
    "\n",
    "    # split embedding into self.heads pieces\n",
    "    values = values.reshape(N, value_len, self.heads, self.head_dim) \n",
    "    keys = keys.reshape(N, key_len, self.heads, self.head_dim)\n",
    "    queries = query.reshape(N, key_len, self.heads, self.head_dim)\n",
    "\n",
    "    # matrix multiplication of q and V\n",
    "    # einstein summation notation\n",
    "    energy = torch.einsum(\"nqhd,nkhd->nhqk\", [queries, keys])\n",
    "\n",
    "    if mask is not None:\n",
    "      energy = energy.masked_fill(mask == 0, float(\"-1e20\"))\n",
    "\n",
    "    # running this through the softmax() in the self attention function\n",
    "    attention = torch.softmax(energy / (self.embed_size**(1/2)), dim=3)\n",
    "\n",
    "    # output: N, query_len, heads, head_dim) \n",
    "    out = torch.einsum(\"nhql,nlhd->nqhd\", [attention, values]).reshape(N, query_len, self.heads*self.head_dim)\n",
    "\n",
    "    out = self.fc_out(out)\n",
    "    return out"
   ]
  },
  {
   "cell_type": "code",
   "execution_count": 2,
   "metadata": {},
   "outputs": [
    {
     "ename": "AttributeError",
     "evalue": "module 'torch.nn' has no attribute 'module'",
     "output_type": "error",
     "traceback": [
      "\u001b[0;31m---------------------------------------------------------------------------\u001b[0m",
      "\u001b[0;31mAttributeError\u001b[0m                            Traceback (most recent call last)",
      "\u001b[1;32m/Users/kevinbuhler/Desktop/2022_projects/ml_transformer/transformer.ipynb Cell 3\u001b[0m in \u001b[0;36m<module>\u001b[0;34m\u001b[0m\n\u001b[0;32m----> <a href='vscode-notebook-cell:/Users/kevinbuhler/Desktop/2022_projects/ml_transformer/transformer.ipynb#W4sZmlsZQ%3D%3D?line=0'>1</a>\u001b[0m \u001b[39mclass\u001b[39;00m \u001b[39mTransformerBlock\u001b[39;00m(nn\u001b[39m.\u001b[39;49mmodule):\n\u001b[1;32m      <a href='vscode-notebook-cell:/Users/kevinbuhler/Desktop/2022_projects/ml_transformer/transformer.ipynb#W4sZmlsZQ%3D%3D?line=1'>2</a>\u001b[0m   \u001b[39mdef\u001b[39;00m \u001b[39m__init__\u001b[39m(\u001b[39mself\u001b[39m, embed_size, heads, dropout, forward_expansion):\n\u001b[1;32m      <a href='vscode-notebook-cell:/Users/kevinbuhler/Desktop/2022_projects/ml_transformer/transformer.ipynb#W4sZmlsZQ%3D%3D?line=2'>3</a>\u001b[0m     \u001b[39msuper\u001b[39m(TransformerBlock, \u001b[39mself\u001b[39m)\u001b[39m.\u001b[39m\u001b[39m__init__\u001b[39m()\n",
      "\u001b[0;31mAttributeError\u001b[0m: module 'torch.nn' has no attribute 'module'"
     ]
    }
   ],
   "source": [
    "class TransformerBlock(nn.module):\n",
    "  def __init__(self, embed_size, heads, dropout, forward_expansion):\n",
    "    super(TransformerBlock, self).__init__()\n",
    "    self.attention = SelfAttention(embed_size, heads)\n",
    "\n",
    "    # first normalization layer\n",
    "    # layer norm takes an average for every example\n",
    "    self.norm1 = nn.LayerNorm(embed_size)\n",
    "\n",
    "    self.norm2 = nn.LayerNorm(embed_size)\n",
    "\n",
    "    # feed forward\n",
    "    self.feed_forward = nn.Sequential(\n",
    "      # in, out\n",
    "      nn.Linear(embed_size, forward_expansion * embed_size),\n",
    "      nn.ReLU(),\n",
    "      nn.Linear(forward_expansion*embed_size, embed_size)\n",
    "      \n",
    "    )\n",
    "\n",
    "    self.dropout = nn.Dropout(dropout)\n",
    "\n",
    "  def forward(self, value, key, query, mask):\n",
    "    attention = self.attention(value, key, query, mask)\n",
    "    #skip connection\n",
    "    self.norm1(attention + query)\n",
    "    X = self.dropout(self.norm1(attention+query))\n",
    "    forward = self.feed_forward(X)\n",
    "    out = self.dropout(self.norm2(forward + X))\n",
    "    return out\n"
   ]
  },
  {
   "cell_type": "code",
   "execution_count": 3,
   "metadata": {},
   "outputs": [],
   "source": [
    "class Encoder(nn.Module):\n",
    "  def __init__(self, src_vocab_size, embed_size, num_layers, heads, device, forward_expansion, dropout, max_length):\n",
    "    super(Encoder, self).__init__()\n",
    "\n",
    "    self.embed_size = embed_size\n",
    "    self.device = device\n",
    "    self.word_embedding = nn.Embedding(src_vocab_size, embed_size)\n",
    "    self.positional_embedding = nn.Embedding(max_length, embed_size)\n",
    "\n",
    "    self.layers = nn.ModuleList(\n",
    "      [TransformerBlock(embed_size, heads, dropout=dropout, forward_expansion=forward_expansion)]\n",
    "    )\n",
    "    self.dropout = nn.Dropout(dropout)\n",
    "\n",
    "  def forward(self, x, mask):\n",
    "    N, seq_length = x.shape\n",
    "    positions = torch.arange(0, seq_length).expand(N, seq_length).to(self.device)\n",
    "\n",
    "    out = self.dropout(self.word_embedding(x) + self.position_embedding(positions))\n",
    "\n",
    "    for layer in self.layers:\n",
    "      out = layer(out, out, out, mask)\n",
    "\n",
    "    return out"
   ]
  },
  {
   "cell_type": "code",
   "execution_count": 4,
   "metadata": {},
   "outputs": [],
   "source": [
    "class DecoderBlock(nn.Module):\n",
    "  def __init__(self, embed_size, heads, forward_expansion, dropout, device):\n",
    "    super(DecoderBlock,self).__init__()\n",
    "\n",
    "    # send it through an attention layer\n",
    "    self.attention = SelfAttention(embed_size,heads)\n",
    "    self.norm = nn.LayerNorm(embed_size)\n",
    "\n",
    "    self.transformer_block = TransformerBlock(embed_size, heads, dropout, forward_expansion)\n",
    "\n",
    "    self.dropout = nn.Dropout(dropout)\n",
    "  \n",
    "  def forward(self, x, value, key, src_mask, trg_mask):\n",
    "    attention = self.attention(x, x, x, trg_mask)\n",
    "    query = self.dropout(self.norm(attention + x))\n",
    "\n",
    "    out = self.transformer_block(value, key, query, src_mask)\n",
    "    return out"
   ]
  },
  {
   "cell_type": "code",
   "execution_count": null,
   "metadata": {},
   "outputs": [],
   "source": [
    "class Decoder(nn.Module):\n",
    "  def __init__(self, trg_vocab_size, embed_size, num_layers, heads, forward_expansion, dropout, device, max_length):\n",
    "    super(Decoder, self).__init__()\n",
    "\n",
    "\n",
    "    self.device = device\n",
    "    self.word_embedding = nn.Embedding(trg_vocab_size, embed_size)\n",
    "    self.position_embedding = nn.Embedding(max_length, embed_size)\n",
    "\n",
    "    self.layers = nn.ModuleList(\n",
    "      [DecoderBlock(embed_size, heads, forward_expansion, dropout, device) for _ in range(num_layers)]\n",
    "    )\n",
    "\n",
    "    self.fc_out = nn.Linear(embed_size, trg_vocab_size)\n",
    "\n",
    "    self.dropout = nn.Dropout(dropout)\n",
    "\n",
    "  def forward(self, x, enc_out, src_mask, trg_mask):\n",
    "    N, seq_length = x.shape\n",
    "\n",
    "    positions = torch.arange(0, seq_length).expand(N, seq_length).to(self.device)\n",
    "\n",
    "    x = self.dropout(self.word_embedding(x) + self.position_embedding(positions))\n",
    "\n",
    "    for layer in self.layers:\n",
    "      x = layer(x, enc_out, enc_out, src_mask, trg_mask)\n",
    "\n",
    "    out = self.fc_out(x)\n"
   ]
  }
 ],
 "metadata": {
  "kernelspec": {
   "display_name": "Python 3.10.1 64-bit",
   "language": "python",
   "name": "python3"
  },
  "language_info": {
   "codemirror_mode": {
    "name": "ipython",
    "version": 3
   },
   "file_extension": ".py",
   "mimetype": "text/x-python",
   "name": "python",
   "nbconvert_exporter": "python",
   "pygments_lexer": "ipython3",
   "version": "3.10.1"
  },
  "orig_nbformat": 4,
  "vscode": {
   "interpreter": {
    "hash": "aee8b7b246df8f9039afb4144a1f6fd8d2ca17a180786b69acc140d282b71a49"
   }
  }
 },
 "nbformat": 4,
 "nbformat_minor": 2
}
