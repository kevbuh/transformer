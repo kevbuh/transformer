{
 "cells": [
  {
   "cell_type": "markdown",
   "metadata": {},
   "source": [
    "PyTorch Transformer from Scratch "
   ]
  },
  {
   "cell_type": "code",
   "execution_count": 1,
   "metadata": {},
   "outputs": [
    {
     "name": "stderr",
     "output_type": "stream",
     "text": [
      "/Library/Frameworks/Python.framework/Versions/3.10/lib/python3.10/site-packages/tqdm/auto.py:22: TqdmWarning: IProgress not found. Please update jupyter and ipywidgets. See https://ipywidgets.readthedocs.io/en/stable/user_install.html\n",
      "  from .autonotebook import tqdm as notebook_tqdm\n"
     ]
    }
   ],
   "source": [
    "import torch\n",
    "import torch.nn as nn\n",
    "\n",
    "class SelfAttention(nn.Module):\n",
    "  def __init__(self, embed_size, heads):\n",
    "    # initialize parent class\n",
    "    super(SelfAttention, self).__init__()\n",
    "    self.embed_size = embed_size\n",
    "    self.heads = heads\n",
    "    self.head_dim = embed_size // heads\n",
    "\n",
    "    # check that 256 embedding size can't be split into 7 parts, or any other number that is not possible\n",
    "    assert (self.head_dim * heads == embed_size), \"Incorrect embedding size. Needs to be divisible by heads\"\n",
    "    \n",
    "    # linear layer that we send out VKQ through\n",
    "    # defining VKQ below\n",
    "    self.values = nn.Linear(self.head_dim, self.head_dim, bias=False)\n",
    "    self.keys = nn.Linear(self.head_dim, self.head_dim, bias=False)\n",
    "    self.queries = nn.Linear(self.head_dim, self.head_dim, bias=False)\n",
    "    self.fc_out = nn.Linear(heads*self.head_dim, embed_size)\n",
    "\n",
    "  def forward(self, values, keys, query, mask):\n",
    "    # define number of training examples\n",
    "    N = query.shape[0]\n",
    "    value_len, key_len, query_len = values.shape[1], keys.shape[1], query.shape[1]\n",
    "\n",
    "    # split embedding into self.heads pieces\n",
    "    values = values.reshape(N, value_len, self.heads, self.head_dim) \n",
    "    keys = keys.reshape(N, key_len, self.heads, self.head_dim)\n",
    "    queries = query.reshape(N, key_len, self.heads, self.head_dim)\n",
    "\n",
    "    # matrix multiplication of q and V\n",
    "    # einstein summation notation\n",
    "    energy = torch.einsum(\"nqhd,nkhd->nhqk\", [queries, keys])\n",
    "\n",
    "    if mask is not None:\n",
    "      energy = energy.masked_fill(mask == 0, float(\"-1e20\"))\n",
    "\n",
    "    # running this through the softmax() in the self attention function\n",
    "    attention = torch.softmax(energy / (self.embed_size**(1/2)), dim=3)\n",
    "\n",
    "    # output: N, query_len, heads, head_dim) \n",
    "    out = torch.einsum(\"nhql,nlhd->nqhd\", [attention, values]).reshape(N, query_len, self.heads*self.head_dim)\n",
    "\n",
    "    out = self.fc_out(out)\n",
    "    return out"
   ]
  },
  {
   "cell_type": "code",
   "execution_count": null,
   "metadata": {},
   "outputs": [],
   "source": []
  }
 ],
 "metadata": {
  "kernelspec": {
   "display_name": "Python 3.10.1 64-bit",
   "language": "python",
   "name": "python3"
  },
  "language_info": {
   "codemirror_mode": {
    "name": "ipython",
    "version": 3
   },
   "file_extension": ".py",
   "mimetype": "text/x-python",
   "name": "python",
   "nbconvert_exporter": "python",
   "pygments_lexer": "ipython3",
   "version": "3.10.1"
  },
  "orig_nbformat": 4,
  "vscode": {
   "interpreter": {
    "hash": "aee8b7b246df8f9039afb4144a1f6fd8d2ca17a180786b69acc140d282b71a49"
   }
  }
 },
 "nbformat": 4,
 "nbformat_minor": 2
}
