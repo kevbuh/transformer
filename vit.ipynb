{
 "cells": [
  {
   "cell_type": "markdown",
   "metadata": {},
   "source": [
    "# Visual Transformer (ViT) in PyTorch\n",
    "Based of the Vision Transformer Paper by Google Brain Research Team."
   ]
  },
  {
   "cell_type": "code",
   "execution_count": 2,
   "metadata": {},
   "outputs": [
    {
     "name": "stdout",
     "output_type": "stream",
     "text": [
      "[INFO] torch/torchvision versions not as required, installing nightly versions.\n",
      "\u001b[33mDEPRECATION: Configuring installation scheme with distutils config files is deprecated and will no longer work in the near future. If you are using a Homebrew or Linuxbrew Python, please see discussion at https://github.com/Homebrew/homebrew-core/issues/76621\u001b[0m\u001b[33m\n",
      "\u001b[0mLooking in indexes: https://pypi.org/simple, https://download.pytorch.org/whl/cu113\n",
      "Collecting torch\n",
      "  Downloading torch-1.13.0-cp39-none-macosx_10_9_x86_64.whl (137.9 MB)\n",
      "\u001b[2K     \u001b[90m━━━━━━━━━━━━━━━━━━━━━━━━━━━━━━━━━━━━━━━\u001b[0m \u001b[32m137.9/137.9 MB\u001b[0m \u001b[31m3.3 MB/s\u001b[0m eta \u001b[36m0:00:00\u001b[0m00:01\u001b[0m00:01\u001b[0m\n",
      "\u001b[?25hCollecting torchvision\n",
      "  Downloading https://download.pytorch.org/whl/torchvision-0.14.0-cp39-cp39-macosx_10_9_x86_64.whl (1.4 MB)\n",
      "\u001b[2K     \u001b[90m━━━━━━━━━━━━━━━━━━━━━━━━━━━━━━━━━━━━━━━━\u001b[0m \u001b[32m1.4/1.4 MB\u001b[0m \u001b[31m1.4 MB/s\u001b[0m eta \u001b[36m0:00:00\u001b[0m00:01\u001b[0m00:01\u001b[0m\n",
      "\u001b[?25hCollecting torchaudio\n",
      "  Downloading https://download.pytorch.org/whl/torchaudio-0.13.0-cp39-cp39-macosx_10_9_x86_64.whl (3.3 MB)\n",
      "\u001b[2K     \u001b[90m━━━━━━━━━━━━━━━━━━━━━━━━━━━━━━━━━━━━━━━━\u001b[0m \u001b[32m3.3/3.3 MB\u001b[0m \u001b[31m3.8 MB/s\u001b[0m eta \u001b[36m0:00:00\u001b[0m00:01\u001b[0m00:01\u001b[0m\n",
      "\u001b[?25hCollecting typing-extensions\n",
      "  Downloading typing_extensions-4.4.0-py3-none-any.whl (26 kB)\n",
      "Collecting pillow!=8.3.*,>=5.3.0\n",
      "  Downloading Pillow-9.2.0-cp39-cp39-macosx_10_10_x86_64.whl (3.1 MB)\n",
      "\u001b[2K     \u001b[90m━━━━━━━━━━━━━━━━━━━━━━━━━━━━━━━━━━━━━━━━\u001b[0m \u001b[32m3.1/3.1 MB\u001b[0m \u001b[31m5.1 MB/s\u001b[0m eta \u001b[36m0:00:00\u001b[0m:00:01\u001b[0m00:01\u001b[0m\n",
      "\u001b[?25hCollecting requests\n",
      "  Downloading requests-2.28.1-py3-none-any.whl (62 kB)\n",
      "\u001b[2K     \u001b[90m━━━━━━━━━━━━━━━━━━━━━━━━━━━━━━━━━━━━━━━━\u001b[0m \u001b[32m62.8/62.8 kB\u001b[0m \u001b[31m1.4 MB/s\u001b[0m eta \u001b[36m0:00:00\u001b[0m:00:01\u001b[0m\n",
      "\u001b[?25hRequirement already satisfied: numpy in /usr/local/lib/python3.9/site-packages (from torchvision) (1.21.4)\n",
      "Collecting urllib3<1.27,>=1.21.1\n",
      "  Downloading urllib3-1.26.12-py2.py3-none-any.whl (140 kB)\n",
      "\u001b[2K     \u001b[90m━━━━━━━━━━━━━━━━━━━━━━━━━━━━━━━━━━━━━━━\u001b[0m \u001b[32m140.4/140.4 kB\u001b[0m \u001b[31m3.7 MB/s\u001b[0m eta \u001b[36m0:00:00\u001b[0m\n",
      "\u001b[?25hCollecting idna<4,>=2.5\n",
      "  Downloading idna-3.4-py3-none-any.whl (61 kB)\n",
      "\u001b[2K     \u001b[90m━━━━━━━━━━━━━━━━━━━━━━━━━━━━━━━━━━━━━━━━\u001b[0m \u001b[32m61.5/61.5 kB\u001b[0m \u001b[31m1.7 MB/s\u001b[0m eta \u001b[36m0:00:00\u001b[0m\n",
      "\u001b[?25hRequirement already satisfied: certifi>=2017.4.17 in /usr/local/lib/python3.9/site-packages (from requests->torchvision) (2021.10.8)\n",
      "Collecting charset-normalizer<3,>=2\n",
      "  Downloading charset_normalizer-2.1.1-py3-none-any.whl (39 kB)\n",
      "Installing collected packages: urllib3, typing-extensions, pillow, idna, charset-normalizer, torch, requests, torchvision, torchaudio\n",
      "\u001b[33m  DEPRECATION: Configuring installation scheme with distutils config files is deprecated and will no longer work in the near future. If you are using a Homebrew or Linuxbrew Python, please see discussion at https://github.com/Homebrew/homebrew-core/issues/76621\u001b[0m\u001b[33m\n",
      "\u001b[0m\u001b[33m  DEPRECATION: Configuring installation scheme with distutils config files is deprecated and will no longer work in the near future. If you are using a Homebrew or Linuxbrew Python, please see discussion at https://github.com/Homebrew/homebrew-core/issues/76621\u001b[0m\u001b[33m\n",
      "\u001b[0m\u001b[33m  DEPRECATION: Configuring installation scheme with distutils config files is deprecated and will no longer work in the near future. If you are using a Homebrew or Linuxbrew Python, please see discussion at https://github.com/Homebrew/homebrew-core/issues/76621\u001b[0m\u001b[33m\n",
      "\u001b[0m\u001b[33m  DEPRECATION: Configuring installation scheme with distutils config files is deprecated and will no longer work in the near future. If you are using a Homebrew or Linuxbrew Python, please see discussion at https://github.com/Homebrew/homebrew-core/issues/76621\u001b[0m\u001b[33m\n",
      "\u001b[0m\u001b[33m  DEPRECATION: Configuring installation scheme with distutils config files is deprecated and will no longer work in the near future. If you are using a Homebrew or Linuxbrew Python, please see discussion at https://github.com/Homebrew/homebrew-core/issues/76621\u001b[0m\u001b[33m\n",
      "\u001b[0m\u001b[33m  DEPRECATION: Configuring installation scheme with distutils config files is deprecated and will no longer work in the near future. If you are using a Homebrew or Linuxbrew Python, please see discussion at https://github.com/Homebrew/homebrew-core/issues/76621\u001b[0m\u001b[33m\n",
      "\u001b[0m\u001b[33m  DEPRECATION: Configuring installation scheme with distutils config files is deprecated and will no longer work in the near future. If you are using a Homebrew or Linuxbrew Python, please see discussion at https://github.com/Homebrew/homebrew-core/issues/76621\u001b[0m\u001b[33m\n",
      "\u001b[0m\u001b[33m  DEPRECATION: Configuring installation scheme with distutils config files is deprecated and will no longer work in the near future. If you are using a Homebrew or Linuxbrew Python, please see discussion at https://github.com/Homebrew/homebrew-core/issues/76621\u001b[0m\u001b[33m\n",
      "\u001b[0m\u001b[33m  DEPRECATION: Configuring installation scheme with distutils config files is deprecated and will no longer work in the near future. If you are using a Homebrew or Linuxbrew Python, please see discussion at https://github.com/Homebrew/homebrew-core/issues/76621\u001b[0m\u001b[33m\n",
      "\u001b[0m\u001b[33mDEPRECATION: Configuring installation scheme with distutils config files is deprecated and will no longer work in the near future. If you are using a Homebrew or Linuxbrew Python, please see discussion at https://github.com/Homebrew/homebrew-core/issues/76621\u001b[0m\u001b[33m\n",
      "\u001b[0mSuccessfully installed charset-normalizer-2.1.1 idna-3.4 pillow-9.2.0 requests-2.28.1 torch-1.13.0 torchaudio-0.13.0 torchvision-0.14.0 typing-extensions-4.4.0 urllib3-1.26.12\n",
      "\u001b[33mWARNING: There was an error checking the latest version of pip.\u001b[0m\u001b[33m\n",
      "\u001b[0mtorch version: 1.11.0\n",
      "torchvision version: 0.12.0\n"
     ]
    }
   ],
   "source": [
    "# importing necessary libraries\n",
    "# For this notebook to run with updated APIs, we need torch 1.12+ and torchvision 0.13+\n",
    "try:\n",
    "    import torch\n",
    "    import torchvision\n",
    "    assert int(torch.__version__.split(\".\")[1]) >= 12, \"torch version should be 1.12+\"\n",
    "    assert int(torchvision.__version__.split(\".\")[1]) >= 13, \"torchvision version should be 0.13+\"\n",
    "    print(f\"torch version: {torch.__version__}\")\n",
    "    print(f\"torchvision version: {torchvision.__version__}\")\n",
    "except:\n",
    "    print(f\"[INFO] torch/torchvision versions not as required, installing nightly versions.\")\n",
    "    !pip3 install -U torch torchvision torchaudio --extra-index-url https://download.pytorch.org/whl/cu113\n",
    "    import torch\n",
    "    import torchvision\n",
    "    print(f\"torch version: {torch.__version__}\")\n",
    "    print(f\"torchvision version: {torchvision.__version__}\")"
   ]
  },
  {
   "cell_type": "code",
   "execution_count": 7,
   "metadata": {},
   "outputs": [],
   "source": [
    "# Continue with regular imports\n",
    "import matplotlib.pyplot as plt\n",
    "import torch\n",
    "import torchvision\n",
    "\n",
    "from torch import nn\n",
    "from torchvision import transforms\n",
    "\n",
    "# Try to get torchinfo, install it if it doesn't work\n",
    "try:\n",
    "    # package to get summary of models\n",
    "    from torchinfo import summary\n",
    "except:\n",
    "    print(\"[INFO] Couldn't find torchinfo... installing it.\")\n",
    "    !pip install - q torchinfo\n",
    "    from torchinfo import summary\n",
    "\n",
    "# Try to import the going_modular directory, download it from GitHub if it doesn't work\n",
    "try:\n",
    "    from modulo import data_setup, engine\n",
    "    from helpers import download_data, set_seeds, plot_loss_curves\n",
    "except:\n",
    "    # Get the going_modular scripts\n",
    "    print(\"[INFO] Couldn't find going_modular or helper_functions scripts... downloading them from GitHub.\")\n",
    "    !git clone https: // github.com/mrdbourke/pytorch-deep-learning\n",
    "    !mv pytorch-deep-learning/going_modular .\n",
    "    !mv pytorch-deep-learning/helper_functions.py .  # get the helper_functions.py script\n",
    "    !rm - rf pytorch-deep-learning\n",
    "    from modulo.going_modular import data_setup, engi ne\n",
    "    from helpers import download_data, set_seeds, plot_loss_curves\n"
   ]
  },
  {
   "cell_type": "code",
   "execution_count": 5,
   "metadata": {},
   "outputs": [
    {
     "data": {
      "text/plain": [
       "'cpu'"
      ]
     },
     "execution_count": 5,
     "metadata": {},
     "output_type": "execute_result"
    }
   ],
   "source": [
    "device = \"cuda\" if torch.cuda.is_available() else \"cpu\"\n",
    "device\n"
   ]
  },
  {
   "cell_type": "markdown",
   "metadata": {},
   "source": [
    "Data Collection"
   ]
  },
  {
   "cell_type": "code",
   "execution_count": 8,
   "metadata": {},
   "outputs": [
    {
     "name": "stdout",
     "output_type": "stream",
     "text": [
      "[INFO] Did not find data/pizza_steak_sushi directory, creating one...\n",
      "[INFO] Downloading pizza_steak_sushi.zip from https://github.com/mrdbourke/pytorch-deep-learning/raw/main/data/pizza_steak_sushi.zip...\n",
      "[INFO] Unzipping pizza_steak_sushi.zip data...\n"
     ]
    },
    {
     "data": {
      "text/plain": [
       "PosixPath('data/pizza_steak_sushi')"
      ]
     },
     "execution_count": 8,
     "metadata": {},
     "output_type": "execute_result"
    }
   ],
   "source": [
    "# Download pizza, steak, sushi images from GitHub\n",
    "image_path = download_data(source=\"https://github.com/mrdbourke/pytorch-deep-learning/raw/main/data/pizza_steak_sushi.zip\",\n",
    "                           destination=\"pizza_steak_sushi\")\n",
    "image_path\n"
   ]
  },
  {
   "cell_type": "code",
   "execution_count": 9,
   "metadata": {},
   "outputs": [],
   "source": [
    "# Setup directory paths to train and test images\n",
    "train_dir = image_path / \"train\"\n",
    "test_dir = image_path / \"test\"\n"
   ]
  },
  {
   "cell_type": "markdown",
   "metadata": {},
   "source": [
    "### Preprocess data\n",
    "\n",
    "Turn images into tensors using same code as paper"
   ]
  },
  {
   "cell_type": "code",
   "execution_count": 10,
   "metadata": {},
   "outputs": [
    {
     "name": "stdout",
     "output_type": "stream",
     "text": [
      "Manually created transforms: Compose(\n",
      "    Resize(size=(224, 224), interpolation=bilinear, max_size=None, antialias=None)\n",
      "    ToTensor()\n",
      ")\n"
     ]
    }
   ],
   "source": [
    "# download data\n",
    "\n",
    "# Create image size (from Table 3 in the ViT paper)\n",
    "IMG_SIZE = 224\n",
    "\n",
    "# Create transform pipeline manually\n",
    "manual_transforms = transforms.Compose([\n",
    "    transforms.Resize((IMG_SIZE, IMG_SIZE)),\n",
    "    transforms.ToTensor(),\n",
    "])\n",
    "print(f\"Manually created transforms: {manual_transforms}\")\n"
   ]
  },
  {
   "cell_type": "code",
   "execution_count": 11,
   "metadata": {},
   "outputs": [
    {
     "data": {
      "text/plain": [
       "(<torch.utils.data.dataloader.DataLoader at 0x11379f220>,\n",
       " <torch.utils.data.dataloader.DataLoader at 0x113754190>,\n",
       " ['pizza', 'steak', 'sushi'])"
      ]
     },
     "execution_count": 11,
     "metadata": {},
     "output_type": "execute_result"
    }
   ],
   "source": [
    "# Set the batch size\n",
    "BATCH_SIZE = 32  # this is lower than the ViT paper but it's because we're starting small\n",
    "\n",
    "# Create data loaders\n",
    "train_dataloader, test_dataloader, class_names = data_setup.create_dataloaders(\n",
    "    train_dir=train_dir,\n",
    "    test_dir=test_dir,\n",
    "    transform=manual_transforms,  # use manually created transforms\n",
    "    batch_size=BATCH_SIZE\n",
    ")\n",
    "\n",
    "train_dataloader, test_dataloader, class_names\n"
   ]
  },
  {
   "cell_type": "code",
   "execution_count": 12,
   "metadata": {},
   "outputs": [
    {
     "data": {
      "text/plain": [
       "(torch.Size([3, 224, 224]), tensor(2))"
      ]
     },
     "execution_count": 12,
     "metadata": {},
     "output_type": "execute_result"
    }
   ],
   "source": [
    "# Get a batch of images\n",
    "image_batch, label_batch = next(iter(train_dataloader))\n",
    "\n",
    "# Get a single image from the batch\n",
    "image, label = image_batch[0], label_batch[0]\n",
    "\n",
    "# View the batch shapes\n",
    "image.shape, label\n"
   ]
  },
  {
   "cell_type": "code",
   "execution_count": 15,
   "metadata": {},
   "outputs": [
    {
     "data": {
      "text/plain": [
       "(-0.5, 223.5, 223.5, -0.5)"
      ]
     },
     "execution_count": 15,
     "metadata": {},
     "output_type": "execute_result"
    },
    {
     "data": {
      "image/png": "[encoded data removed]",
      "text/plain": [
       "<Figure size 432x288 with 1 Axes>"
      ]
     },
     "metadata": {
      "needs_background": "light"
     },
     "output_type": "display_data"
    }
   ],
   "source": [
    "# Plot image with matplotlib\n",
    "# rearrange image dimensions to suit matplotlib [color_channels, height, width] -> [height, width, color_channels]\n",
    "plt.imshow(image.permute(1, 2, 0))\n",
    "plt.title(class_names[label])\n",
    "plt.axis(False)\n"
   ]
  },
  {
   "cell_type": "markdown",
   "metadata": {},
   "source": [
    "## How the model works\n",
    "\n",
    "Original Transformer paper was based of text sequences. We turn image into sequence by flattening image into patches. Then we embed patches and then add positional embedding and a class token embedding. Then a series of transformer encoder to learn what is inside an image. Then we pass that into a MLP head, and then it gives us the output.\n",
    "\n",
    "### Architecture\n",
    "PatchEmbedding(): Turn the images into patches\n",
    "Transformer Encoder Layer: Alternating Multi-Self-Attention Layers and MLP blocks.\n",
    "Stack Multiple Transformer encoder layers on top of each other\n",
    "MLP Head\n",
    "Put it All Together to create the ViT."
   ]
  },
  {
   "cell_type": "markdown",
   "metadata": {},
   "source": [
    "### Patch Embedding Layer\n",
    "Creates the patch embedding by doing a convolutional layer over an image and flattening those convolutional feature maps.\n",
    "\n",
    "Kernal size of patch size. \n",
    "\n",
    "Stride length of patch size. \n",
    "\n",
    "This allows us to embed our image using a convolutional layer that creates a linear projection of flattened patches. This turns the image pixels into a learnable representation (embedding). \n",
    "\n",
    "Instead of using RGB, we use embedding so our model can learn representations of out image. \n"
   ]
  },
  {
   "cell_type": "code",
   "execution_count": 29,
   "metadata": {},
   "outputs": [],
   "source": [
    "# 1. Create a class which subclasses nn.Module\n",
    "class PatchEmbedding(nn.Module):\n",
    "    \"\"\"Turns a 2D input image into a 1D sequence learnable embedding vector.\n",
    "    \n",
    "    Args:\n",
    "        in_channels (int): Number of color channels for the input images. Defaults to 3.\n",
    "        patch_size (int): Size of patches to convert input image into. Defaults to 16.\n",
    "        embedding_dim (int): Size of embedding to turn image into. Defaults to 768.\n",
    "    \"\"\"\n",
    "    # 2. Initialize the class with appropriate variables\n",
    "\n",
    "    def __init__(self,\n",
    "                 in_channels: int = 3,\n",
    "                 patch_size: int = 16,\n",
    "                 embedding_dim: int = 768):\n",
    "        super().__init__()\n",
    "\n",
    "        self.patch_size = patch_size\n",
    "\n",
    "        # 3. Create a layer to turn an image into patches\n",
    "        self.patcher = nn.Conv2d(in_channels=in_channels,\n",
    "                                 out_channels=embedding_dim,\n",
    "                                 kernel_size=patch_size,\n",
    "                                 stride=self.patch_size,\n",
    "                                 padding=0)\n",
    "\n",
    "        # 4. Create a layer to flatten the patch feature maps into a single dimension\n",
    "        self.flatten = nn.Flatten(start_dim=2,  # only flatten the feature map dimensions into a single vector\n",
    "                                  end_dim=3)\n",
    "\n",
    "    # 5. Define the forward method\n",
    "    def forward(self, x):\n",
    "        # Create assertion to check that inputs are the correct shape\n",
    "        image_resolution = x.shape[-1]\n",
    "        assert image_resolution % self.patch_size == 0, f\"Input image size must be divisble by patch size, image shape: {image_resolution}, patch size: {self.patch_size}\"\n",
    "\n",
    "        # Perform the forward pass\n",
    "        x_patched = self.patcher(x)\n",
    "        x_flattened = self.flatten(x_patched)\n",
    "        # 6. Make sure the output shape has the right order\n",
    "        return x_flattened.permute(0, 2, 1)\n"
   ]
  },
  {
   "cell_type": "code",
   "execution_count": 30,
   "metadata": {},
   "outputs": [
    {
     "name": "stdout",
     "output_type": "stream",
     "text": [
      "input shape: torch.Size([1, 3, 224, 224])\n",
      "Output shape: torch.Size([1, 196, 768])\n"
     ]
    }
   ],
   "source": [
    "patch_embedding = PatchEmbedding()\n",
    "patch_embedding_output = patch_embedding(rand_image_tensor)\n",
    "print(f\"input shape: {rand_image_tensor.shape}\")\n",
    "print(f\"Output shape: {patch_embedding_output.shape}\")"
   ]
  },
  {
   "cell_type": "markdown",
   "metadata": {},
   "source": [
    "### Transformer Encoder Layer\n",
    "\n",
    "Alternating MSA and MLP blocks.\n",
    "\n",
    "Using TRANSFORMERENCODERLAYER() from PyTorch.\n",
    "- Made up of self attention, multi head attention, and feedforward (dense, MLP) networks\n",
    "- MLP contains two layers with a GELU non-linearity.\n",
    "\n",
    "I will be using this rather than the transformer I made my self."
   ]
  },
  {
   "cell_type": "code",
   "execution_count": 31,
   "metadata": {},
   "outputs": [
    {
     "data": {
      "text/plain": [
       "torch.Size([1, 3, 224, 224])"
      ]
     },
     "execution_count": 31,
     "metadata": {},
     "output_type": "execute_result"
    }
   ],
   "source": [
    "# batch size, color channels, height, width\n",
    "rand_image_tensor = torch.randn(1,3,224,224)\n",
    "rand_image_tensor.shape"
   ]
  },
  {
   "cell_type": "code",
   "execution_count": 32,
   "metadata": {},
   "outputs": [
    {
     "data": {
      "text/plain": [
       "TransformerEncoderLayer(\n",
       "  (self_attn): MultiheadAttention(\n",
       "    (out_proj): NonDynamicallyQuantizableLinear(in_features=768, out_features=768, bias=True)\n",
       "  )\n",
       "  (linear1): Linear(in_features=768, out_features=3072, bias=True)\n",
       "  (dropout): Dropout(p=0.1, inplace=False)\n",
       "  (linear2): Linear(in_features=3072, out_features=768, bias=True)\n",
       "  (norm1): LayerNorm((768,), eps=1e-05, elementwise_affine=True)\n",
       "  (norm2): LayerNorm((768,), eps=1e-05, elementwise_affine=True)\n",
       "  (dropout1): Dropout(p=0.1, inplace=False)\n",
       "  (dropout2): Dropout(p=0.1, inplace=False)\n",
       ")"
      ]
     },
     "execution_count": 32,
     "metadata": {},
     "output_type": "execute_result"
    }
   ],
   "source": [
    "# the paper uses a dimensions of 768, or embedding size for ViT base\n",
    "# Dropout is regularization by randomly dropping out connection between layers. Remaining layers are now more generalizable.\n",
    "# *** insert image here\n",
    "# *** add GELU image from pytorch website\n",
    "transformer_encoder_layer = nn.TransformerEncoderLayer(d_model=768, nhead=12, dim_feedforward=3072, dropout=0.1, activation=\"gelu\", batch_first=True, norm_first=True)\n",
    "transformer_encoder_layer"
   ]
  },
  {
   "cell_type": "markdown",
   "metadata": {},
   "source": [
    "### Stacking 12 layers of Transformer encoder on top of each other from the paper, which uses a stack of 12 layers.\n",
    "\n",
    "We can do so using nn.TransformerEncoder"
   ]
  },
  {
   "cell_type": "code",
   "execution_count": 34,
   "metadata": {},
   "outputs": [
    {
     "data": {
      "text/plain": [
       "TransformerEncoder(\n",
       "  (layers): ModuleList(\n",
       "    (0): TransformerEncoderLayer(\n",
       "      (self_attn): MultiheadAttention(\n",
       "        (out_proj): NonDynamicallyQuantizableLinear(in_features=768, out_features=768, bias=True)\n",
       "      )\n",
       "      (linear1): Linear(in_features=768, out_features=3072, bias=True)\n",
       "      (dropout): Dropout(p=0.1, inplace=False)\n",
       "      (linear2): Linear(in_features=3072, out_features=768, bias=True)\n",
       "      (norm1): LayerNorm((768,), eps=1e-05, elementwise_affine=True)\n",
       "      (norm2): LayerNorm((768,), eps=1e-05, elementwise_affine=True)\n",
       "      (dropout1): Dropout(p=0.1, inplace=False)\n",
       "      (dropout2): Dropout(p=0.1, inplace=False)\n",
       "    )\n",
       "    (1): TransformerEncoderLayer(\n",
       "      (self_attn): MultiheadAttention(\n",
       "        (out_proj): NonDynamicallyQuantizableLinear(in_features=768, out_features=768, bias=True)\n",
       "      )\n",
       "      (linear1): Linear(in_features=768, out_features=3072, bias=True)\n",
       "      (dropout): Dropout(p=0.1, inplace=False)\n",
       "      (linear2): Linear(in_features=3072, out_features=768, bias=True)\n",
       "      (norm1): LayerNorm((768,), eps=1e-05, elementwise_affine=True)\n",
       "      (norm2): LayerNorm((768,), eps=1e-05, elementwise_affine=True)\n",
       "      (dropout1): Dropout(p=0.1, inplace=False)\n",
       "      (dropout2): Dropout(p=0.1, inplace=False)\n",
       "    )\n",
       "    (2): TransformerEncoderLayer(\n",
       "      (self_attn): MultiheadAttention(\n",
       "        (out_proj): NonDynamicallyQuantizableLinear(in_features=768, out_features=768, bias=True)\n",
       "      )\n",
       "      (linear1): Linear(in_features=768, out_features=3072, bias=True)\n",
       "      (dropout): Dropout(p=0.1, inplace=False)\n",
       "      (linear2): Linear(in_features=3072, out_features=768, bias=True)\n",
       "      (norm1): LayerNorm((768,), eps=1e-05, elementwise_affine=True)\n",
       "      (norm2): LayerNorm((768,), eps=1e-05, elementwise_affine=True)\n",
       "      (dropout1): Dropout(p=0.1, inplace=False)\n",
       "      (dropout2): Dropout(p=0.1, inplace=False)\n",
       "    )\n",
       "    (3): TransformerEncoderLayer(\n",
       "      (self_attn): MultiheadAttention(\n",
       "        (out_proj): NonDynamicallyQuantizableLinear(in_features=768, out_features=768, bias=True)\n",
       "      )\n",
       "      (linear1): Linear(in_features=768, out_features=3072, bias=True)\n",
       "      (dropout): Dropout(p=0.1, inplace=False)\n",
       "      (linear2): Linear(in_features=3072, out_features=768, bias=True)\n",
       "      (norm1): LayerNorm((768,), eps=1e-05, elementwise_affine=True)\n",
       "      (norm2): LayerNorm((768,), eps=1e-05, elementwise_affine=True)\n",
       "      (dropout1): Dropout(p=0.1, inplace=False)\n",
       "      (dropout2): Dropout(p=0.1, inplace=False)\n",
       "    )\n",
       "    (4): TransformerEncoderLayer(\n",
       "      (self_attn): MultiheadAttention(\n",
       "        (out_proj): NonDynamicallyQuantizableLinear(in_features=768, out_features=768, bias=True)\n",
       "      )\n",
       "      (linear1): Linear(in_features=768, out_features=3072, bias=True)\n",
       "      (dropout): Dropout(p=0.1, inplace=False)\n",
       "      (linear2): Linear(in_features=3072, out_features=768, bias=True)\n",
       "      (norm1): LayerNorm((768,), eps=1e-05, elementwise_affine=True)\n",
       "      (norm2): LayerNorm((768,), eps=1e-05, elementwise_affine=True)\n",
       "      (dropout1): Dropout(p=0.1, inplace=False)\n",
       "      (dropout2): Dropout(p=0.1, inplace=False)\n",
       "    )\n",
       "    (5): TransformerEncoderLayer(\n",
       "      (self_attn): MultiheadAttention(\n",
       "        (out_proj): NonDynamicallyQuantizableLinear(in_features=768, out_features=768, bias=True)\n",
       "      )\n",
       "      (linear1): Linear(in_features=768, out_features=3072, bias=True)\n",
       "      (dropout): Dropout(p=0.1, inplace=False)\n",
       "      (linear2): Linear(in_features=3072, out_features=768, bias=True)\n",
       "      (norm1): LayerNorm((768,), eps=1e-05, elementwise_affine=True)\n",
       "      (norm2): LayerNorm((768,), eps=1e-05, elementwise_affine=True)\n",
       "      (dropout1): Dropout(p=0.1, inplace=False)\n",
       "      (dropout2): Dropout(p=0.1, inplace=False)\n",
       "    )\n",
       "    (6): TransformerEncoderLayer(\n",
       "      (self_attn): MultiheadAttention(\n",
       "        (out_proj): NonDynamicallyQuantizableLinear(in_features=768, out_features=768, bias=True)\n",
       "      )\n",
       "      (linear1): Linear(in_features=768, out_features=3072, bias=True)\n",
       "      (dropout): Dropout(p=0.1, inplace=False)\n",
       "      (linear2): Linear(in_features=3072, out_features=768, bias=True)\n",
       "      (norm1): LayerNorm((768,), eps=1e-05, elementwise_affine=True)\n",
       "      (norm2): LayerNorm((768,), eps=1e-05, elementwise_affine=True)\n",
       "      (dropout1): Dropout(p=0.1, inplace=False)\n",
       "      (dropout2): Dropout(p=0.1, inplace=False)\n",
       "    )\n",
       "    (7): TransformerEncoderLayer(\n",
       "      (self_attn): MultiheadAttention(\n",
       "        (out_proj): NonDynamicallyQuantizableLinear(in_features=768, out_features=768, bias=True)\n",
       "      )\n",
       "      (linear1): Linear(in_features=768, out_features=3072, bias=True)\n",
       "      (dropout): Dropout(p=0.1, inplace=False)\n",
       "      (linear2): Linear(in_features=3072, out_features=768, bias=True)\n",
       "      (norm1): LayerNorm((768,), eps=1e-05, elementwise_affine=True)\n",
       "      (norm2): LayerNorm((768,), eps=1e-05, elementwise_affine=True)\n",
       "      (dropout1): Dropout(p=0.1, inplace=False)\n",
       "      (dropout2): Dropout(p=0.1, inplace=False)\n",
       "    )\n",
       "    (8): TransformerEncoderLayer(\n",
       "      (self_attn): MultiheadAttention(\n",
       "        (out_proj): NonDynamicallyQuantizableLinear(in_features=768, out_features=768, bias=True)\n",
       "      )\n",
       "      (linear1): Linear(in_features=768, out_features=3072, bias=True)\n",
       "      (dropout): Dropout(p=0.1, inplace=False)\n",
       "      (linear2): Linear(in_features=3072, out_features=768, bias=True)\n",
       "      (norm1): LayerNorm((768,), eps=1e-05, elementwise_affine=True)\n",
       "      (norm2): LayerNorm((768,), eps=1e-05, elementwise_affine=True)\n",
       "      (dropout1): Dropout(p=0.1, inplace=False)\n",
       "      (dropout2): Dropout(p=0.1, inplace=False)\n",
       "    )\n",
       "    (9): TransformerEncoderLayer(\n",
       "      (self_attn): MultiheadAttention(\n",
       "        (out_proj): NonDynamicallyQuantizableLinear(in_features=768, out_features=768, bias=True)\n",
       "      )\n",
       "      (linear1): Linear(in_features=768, out_features=3072, bias=True)\n",
       "      (dropout): Dropout(p=0.1, inplace=False)\n",
       "      (linear2): Linear(in_features=3072, out_features=768, bias=True)\n",
       "      (norm1): LayerNorm((768,), eps=1e-05, elementwise_affine=True)\n",
       "      (norm2): LayerNorm((768,), eps=1e-05, elementwise_affine=True)\n",
       "      (dropout1): Dropout(p=0.1, inplace=False)\n",
       "      (dropout2): Dropout(p=0.1, inplace=False)\n",
       "    )\n",
       "    (10): TransformerEncoderLayer(\n",
       "      (self_attn): MultiheadAttention(\n",
       "        (out_proj): NonDynamicallyQuantizableLinear(in_features=768, out_features=768, bias=True)\n",
       "      )\n",
       "      (linear1): Linear(in_features=768, out_features=3072, bias=True)\n",
       "      (dropout): Dropout(p=0.1, inplace=False)\n",
       "      (linear2): Linear(in_features=3072, out_features=768, bias=True)\n",
       "      (norm1): LayerNorm((768,), eps=1e-05, elementwise_affine=True)\n",
       "      (norm2): LayerNorm((768,), eps=1e-05, elementwise_affine=True)\n",
       "      (dropout1): Dropout(p=0.1, inplace=False)\n",
       "      (dropout2): Dropout(p=0.1, inplace=False)\n",
       "    )\n",
       "    (11): TransformerEncoderLayer(\n",
       "      (self_attn): MultiheadAttention(\n",
       "        (out_proj): NonDynamicallyQuantizableLinear(in_features=768, out_features=768, bias=True)\n",
       "      )\n",
       "      (linear1): Linear(in_features=768, out_features=3072, bias=True)\n",
       "      (dropout): Dropout(p=0.1, inplace=False)\n",
       "      (linear2): Linear(in_features=3072, out_features=768, bias=True)\n",
       "      (norm1): LayerNorm((768,), eps=1e-05, elementwise_affine=True)\n",
       "      (norm2): LayerNorm((768,), eps=1e-05, elementwise_affine=True)\n",
       "      (dropout1): Dropout(p=0.1, inplace=False)\n",
       "      (dropout2): Dropout(p=0.1, inplace=False)\n",
       "    )\n",
       "  )\n",
       ")"
      ]
     },
     "execution_count": 34,
     "metadata": {},
     "output_type": "execute_result"
    }
   ],
   "source": [
    "transformer_encoder = nn.TransformerEncoder(encoder_layer=transformer_encoder_layer, num_layers=12)\n",
    "\n",
    "transformer_encoder"
   ]
  },
  {
   "cell_type": "markdown",
   "metadata": {},
   "source": [
    "### Creating the ViT\n",
    "\n",
    "A learnable classification token is added to the model in order to perform classification."
   ]
  },
  {
   "cell_type": "code",
   "execution_count": 61,
   "metadata": {},
   "outputs": [],
   "source": [
    "class ViT(nn.Module):\n",
    "  def __init__(self, img_size=224, patch_size=16, embedding_dim=768, dropout=0.1, mlp_size=3072, num_transformer_layers = 12, num_heads=12, num_channels=3, num_classes=1000):\n",
    "    super().__init__()\n",
    "    # print(\"hi\")\n",
    "\n",
    "    assert img_size % patch_size == 0, \"Image size must be divisible by patch size\"\n",
    "\n",
    "    # patch embedding\n",
    "    self.patch_embedding = PatchEmbedding(in_channels=num_channels, patch_size=patch_size, embedding_dim=embedding_dim)\n",
    "\n",
    "    # class token, requires_grad makes it learnable\n",
    "    self.class_token = nn.Parameter(torch.randn(1,1,embedding_dim), requires_grad=True)\n",
    "\n",
    "    # positional embedding\n",
    "    num_patches = (img_size * img_size // patch_size**2) # N=HW/P^2\n",
    "    self.positional_embedding = nn.Parameter(torch.randn(1, num_patches + 1, embedding_dim))\n",
    "\n",
    "    # patch and positional embedding dropout\n",
    "    self.embedding_dropout = nn.Dropout(p=dropout)\n",
    "\n",
    "    # Single transformer encoder layer\n",
    "    self.transformer_encoder_layer = nn.TransformerEncoderLayer(d_model=embedding_dim, nhead=num_heads, dim_feedforward=mlp_size, activation=\"gelu\", batch_first=True,\n",
    "    norm_first=True)\n",
    "\n",
    "    # Stack of Transformer Encoder Layers\n",
    "    self.transformer_encoder = nn.TransformerEncoder(encoder_layer=nn.TransformerEncoderLayer(d_model=embedding_dim, nhead=num_heads, dim_feedforward=mlp_size, activation=\"gelu\", batch_first=True,\n",
    "                                                                                              norm_first=True), num_layers=12)\n",
    "\n",
    "    # MLP head\n",
    "    self.mlp_head = nn.Sequential(\n",
    "      #get info about layer norm from papers w/ code\n",
    "      nn.LayerNorm(normalized_shape=embedding_dim),\n",
    "      nn.Linear(in_features=embedding_dim, out_features=num_classes)\n",
    "    )\n",
    "\n",
    "\n",
    "  def forward(self, x):\n",
    "    batch_size = x.shape[0]\n",
    "\n",
    "    # Patch embedding\n",
    "    x = self.patch_embedding(x)\n",
    "\n",
    "    # Expand the class token across all the batch size and infer the dimension \n",
    "    class_token = self.class_token.expand(batch_size, -1, -1)\n",
    "\n",
    "    # Prepend class token to patch embedding\n",
    "    x = torch.cat((class_token, x), dim=1)\n",
    "\n",
    "    # add pos_emb to class_token\n",
    "    x = self.positional_embedding + x\n",
    "    print(x.shape)\n",
    "\n",
    "    # Dropout Add\n",
    "    x = self.embedding_dropout(x)\n",
    "\n",
    "    # Pass embedding through transformer stack\n",
    "    x = self.transformer_encoder(x)\n",
    "\n",
    "    # Pass first token to MLP head\n",
    "    x = self.mlp_head(x[:,0])\n",
    "\n",
    "    return x"
   ]
  },
  {
   "cell_type": "code",
   "execution_count": 60,
   "metadata": {},
   "outputs": [
    {
     "name": "stdout",
     "output_type": "stream",
     "text": [
      "torch.Size([32, 3, 224, 224])\n",
      "torch.Size([32, 197, 768])\n"
     ]
    },
    {
     "data": {
      "text/plain": [
       "tensor([[ 0.2283,  0.0802, -0.7142],\n",
       "        [ 0.2601,  0.1633, -0.4209],\n",
       "        [ 0.2553, -0.5217, -1.0118],\n",
       "        [ 0.4093, -0.1271, -0.7528],\n",
       "        [ 0.1728, -0.2613, -0.8472],\n",
       "        [ 0.2187,  0.0765, -0.8131],\n",
       "        [ 0.4672, -0.1950, -0.9200],\n",
       "        [ 0.2560,  0.3770, -0.8075],\n",
       "        [ 0.2505,  0.0825, -0.8534],\n",
       "        [ 0.2871, -0.2033, -0.6935],\n",
       "        [ 0.2887,  0.0361, -0.4170],\n",
       "        [ 0.1647, -0.0886, -0.7537],\n",
       "        [ 0.5177, -0.2890, -0.6019],\n",
       "        [-0.0424, -0.0099, -0.5542],\n",
       "        [ 0.6241, -0.2538, -0.8078],\n",
       "        [-0.0087, -0.2060, -0.5199],\n",
       "        [ 0.2956,  0.0273, -0.7227],\n",
       "        [ 0.0300,  0.0512, -0.6969],\n",
       "        [ 0.0680, -0.0749, -0.7172],\n",
       "        [ 0.2609, -0.1485, -0.4220],\n",
       "        [ 0.3395,  0.0364, -0.6158],\n",
       "        [-0.0534, -0.1574, -0.8294],\n",
       "        [ 0.4851, -0.1919, -0.7795],\n",
       "        [ 0.3416, -0.1231, -0.7072],\n",
       "        [ 0.2780, -0.0190, -0.7658],\n",
       "        [ 0.2508, -0.2685, -0.7135],\n",
       "        [ 0.1136, -0.0343, -0.5224],\n",
       "        [ 0.3704, -0.0150, -0.7776],\n",
       "        [ 0.1364, -0.0335, -0.6508],\n",
       "        [ 0.3321, -0.1315, -0.9034],\n",
       "        [ 0.4148,  0.2512, -0.7466],\n",
       "        [ 0.1482,  0.1998, -0.8692]], grad_fn=<AddmmBackward0>)"
      ]
     },
     "execution_count": 60,
     "metadata": {},
     "output_type": "execute_result"
    }
   ],
   "source": [
    "demo_img = torch.randn(32,3,224,224) \n",
    "print(demo_img.shape)\n",
    "\n",
    "vit = ViT(num_classes=len(class_names))\n",
    "vit(demo_img)"
   ]
  },
  {
   "cell_type": "code",
   "execution_count": 55,
   "metadata": {},
   "outputs": [
    {
     "data": {
      "text/plain": [
       "Parameter containing:\n",
       "tensor([[[-0.9155, -0.8731, -1.1358,  0.4982,  0.8108,  1.6023,  1.3189,\n",
       "          -1.4007,  1.7438, -0.0624, -1.2018,  1.0267, -0.3675, -0.5239,\n",
       "           0.3957,  0.1343,  1.3760, -0.5721,  0.9399,  0.9458,  0.6954,\n",
       "           0.4744,  0.2173,  2.5457, -0.0337, -0.3602, -1.6078,  1.4660,\n",
       "           0.1490, -0.5700,  0.2507, -0.6644,  0.5301, -1.7777, -1.9764,\n",
       "          -0.3410,  0.2200,  0.6866,  0.7758,  0.4489,  0.2675, -1.4141,\n",
       "          -1.0139, -0.5525, -1.6783, -0.2550, -0.9122,  1.0862, -0.1215,\n",
       "           0.6315, -1.5031,  0.4188,  0.7185, -0.0649,  1.1003,  0.9704,\n",
       "          -0.3372, -0.9411, -0.2247, -0.6287,  1.9350, -0.6267,  0.7287,\n",
       "          -0.5418, -0.7917, -0.2282, -0.4637, -1.2966,  1.7544,  0.2608,\n",
       "           0.8862, -0.9485, -0.0446,  0.5446,  0.2485, -1.8067,  0.1769,\n",
       "          -2.8871, -1.8506, -0.7968, -0.4534,  1.4712, -0.5610,  1.2504,\n",
       "           0.2910, -0.2485, -0.1945,  0.0867, -1.6548, -0.1601, -0.2511,\n",
       "           1.6246, -0.5277,  0.6480,  0.6073, -0.0317, -0.5446,  1.7454,\n",
       "           0.4418, -0.8873,  0.3854,  0.4396, -0.3633,  0.7688, -0.2983,\n",
       "          -0.5833,  0.2099, -1.4259,  0.0116, -1.3044, -1.3869, -0.3806,\n",
       "          -0.2607,  0.6468,  0.8693,  0.6309,  0.6702, -0.1149,  0.2270,\n",
       "           0.7118, -0.5669, -0.1028, -1.1166,  0.4294, -0.3922,  1.7606,\n",
       "          -0.9199,  0.1040, -0.4012, -0.7997, -0.7832,  0.2592,  0.1693,\n",
       "          -1.1260,  0.8340,  0.6632, -0.4917, -0.2196,  0.7126, -0.2864,\n",
       "           1.6770, -0.2573, -0.9678,  0.2752,  3.0669, -0.5216,  0.4962,\n",
       "           0.3507,  0.2903,  0.4851, -0.0966, -0.5191,  2.5547,  0.2111,\n",
       "          -0.2474, -0.5227,  0.6600,  0.6766,  1.3367,  0.8169,  1.4948,\n",
       "          -0.7547, -0.7248, -1.0109, -0.9610, -0.5520, -0.4112,  1.3169,\n",
       "           0.8060,  1.6008,  0.0630,  0.6038, -0.4147,  1.5117, -0.1543,\n",
       "           0.6043,  1.2862, -0.0142, -0.1137, -1.3702,  0.5697, -0.9560,\n",
       "          -0.2923,  1.4206, -1.9478,  0.7032, -0.2390, -1.0212,  1.2830,\n",
       "           0.4012,  1.0478, -0.2459, -0.3819, -0.2213, -0.1875, -1.2059,\n",
       "           0.5800, -1.4380,  1.3703, -1.0332, -0.9691, -1.7131,  0.4487,\n",
       "           0.6499, -1.9909, -1.0582, -1.1086, -1.3872,  1.2483, -0.0742,\n",
       "          -0.0991, -0.0682,  0.2605,  1.8918,  0.2903,  0.6724,  0.7865,\n",
       "           1.2237, -0.5519,  0.8888,  0.9057, -1.0102, -0.4143, -0.0416,\n",
       "          -1.4507, -0.5005, -0.0329, -0.6490, -1.7612,  1.8735, -0.6185,\n",
       "           0.1944, -0.9696, -0.2296,  0.7036,  0.9053,  1.0319,  0.4100,\n",
       "          -0.4573, -0.9519, -1.2525,  0.0909,  0.5699, -0.5493, -1.5739,\n",
       "           0.7707,  0.7435, -0.5316, -0.0261,  0.4145,  0.1186,  1.3648,\n",
       "          -0.1586,  0.8031, -0.2389, -0.2341,  0.6384,  0.0255,  1.3074,\n",
       "           0.5571,  0.1314,  0.2550,  0.3919, -0.0516, -0.0861,  0.2719,\n",
       "          -1.0305, -0.4417, -0.7096, -0.1822,  0.2927, -0.5620, -2.1156,\n",
       "          -0.7124, -1.9980, -0.5759, -0.3334,  2.1166,  0.0181,  0.7582,\n",
       "          -0.8726,  0.0613, -1.1605, -0.5062,  0.5682,  1.0769, -0.5009,\n",
       "          -1.8818, -0.3382,  1.8481, -0.5610, -0.6570,  1.0724, -0.0486,\n",
       "           1.1960, -0.9085, -0.2511,  0.1043,  2.8772, -0.8821,  1.3841,\n",
       "           1.4172, -0.3302, -1.9590, -0.4337, -1.6057, -0.5970,  0.8319,\n",
       "           1.1881, -1.5895,  1.4757,  0.0438, -0.1815, -0.5606, -0.1838,\n",
       "          -1.2704, -0.4641,  0.3052, -0.3019,  0.3867,  0.8366,  1.0073,\n",
       "           0.1425,  0.5614,  0.5480,  1.0774, -1.3246,  1.5045, -1.6233,\n",
       "           0.3223, -1.1248,  1.6360, -1.7428, -0.2902, -1.2866,  0.9061,\n",
       "          -0.7264, -0.1499,  1.2574,  0.4957,  0.7610,  0.8780,  0.5257,\n",
       "           0.3882,  0.4569,  1.6278,  0.6841, -1.3143,  0.1246,  0.7331,\n",
       "           0.5708,  0.3539,  0.4963,  1.0439,  0.8917, -0.4177,  1.0223,\n",
       "          -2.3764,  0.2046, -0.2853,  0.3447, -0.7616, -0.2634, -1.5282,\n",
       "           0.0219,  0.1103, -1.1555,  0.1244, -2.1013,  0.7890, -0.0967,\n",
       "           0.7595,  0.0565,  0.7389,  1.5858, -0.7731,  1.0150,  1.1688,\n",
       "          -1.6289,  0.7912, -0.5713,  0.9464,  1.2119, -0.1061,  1.3856,\n",
       "          -1.0101,  0.1224, -0.7707, -0.0574,  1.0861, -0.4346,  0.5780,\n",
       "           0.6648,  0.2300,  0.0371, -0.3334,  0.2371, -0.4329,  0.2438,\n",
       "           1.5735,  0.2343,  0.8999, -0.7174, -2.4183, -0.8285,  0.4365,\n",
       "          -0.1458,  0.4925, -0.2500,  0.7303, -1.8394,  1.3265, -0.3785,\n",
       "          -2.3684,  0.0711,  0.8625,  0.8992,  1.4536, -0.6039,  1.3268,\n",
       "           0.0182, -0.6705, -0.4575,  0.3644, -0.7050, -0.2209,  0.5118,\n",
       "           0.4978,  0.9991, -1.0487, -1.7901, -0.1506, -0.7060, -0.4462,\n",
       "          -1.2270,  0.3594, -0.1611, -0.0780,  1.4913, -0.8155,  0.5330,\n",
       "           0.7730,  0.3746, -0.0960,  1.1802,  0.3984,  0.1000,  1.5758,\n",
       "           0.0912, -1.5577,  0.2924, -0.6976,  2.2132, -0.7429,  1.1835,\n",
       "          -1.0119, -0.6385, -1.1303,  0.7001,  0.2681,  1.3382, -0.8514,\n",
       "           0.1340, -1.1713,  0.5790, -0.2663,  1.1623,  0.7721,  1.0453,\n",
       "          -0.9738,  1.7333, -0.0462, -0.9979,  0.7161,  0.0980, -0.0061,\n",
       "           0.0887,  0.0541, -1.3448, -0.0408,  0.3385, -1.0486,  0.7565,\n",
       "           0.0384, -0.8632, -0.4162,  1.1528, -0.5543,  0.2101,  0.5093,\n",
       "           0.3894,  0.1627, -0.3166, -0.5458,  1.1643,  1.5343,  0.1485,\n",
       "           0.3927,  0.2322, -0.5686, -0.9484,  1.3714, -0.3293,  1.2047,\n",
       "           0.8810,  0.7001,  0.6370, -0.5252,  0.5940,  1.2445, -0.5213,\n",
       "           0.3679,  1.5411, -0.6003, -0.6874,  0.4197, -0.4351, -0.3642,\n",
       "          -0.3644, -0.7286,  0.5161, -0.0921, -1.1335, -0.2326,  0.1982,\n",
       "          -0.0762,  1.7988,  0.6343, -0.4294,  0.5885,  0.0705,  0.6869,\n",
       "          -1.1773,  0.5640,  0.3677,  1.3287, -0.0786, -1.6863, -0.8528,\n",
       "           0.3486, -0.6654, -2.1238,  0.9295, -1.4095, -0.3963,  0.6555,\n",
       "          -1.0487,  0.4081, -1.0833, -0.0263, -0.3979, -0.5940, -0.4678,\n",
       "           1.4423, -1.3870, -2.2555,  0.2539, -0.1587, -0.1435, -0.1562,\n",
       "           1.0124,  0.5069,  1.1183, -0.5256, -0.1021,  0.8728, -2.2963,\n",
       "          -1.9539, -0.7704, -0.5442,  0.6166, -1.4147,  0.5072, -0.9942,\n",
       "          -0.3513,  1.9162,  0.1131, -0.8452,  0.5160, -0.5877, -1.2098,\n",
       "           0.2246,  1.2493,  1.2421, -0.5525,  2.1256,  0.5264, -0.7852,\n",
       "          -0.4476,  0.5102, -2.0090, -0.6854,  0.5608, -0.6184, -0.7962,\n",
       "           0.6075, -0.5861,  1.3585,  0.1415, -0.1795, -0.1608, -0.7552,\n",
       "           1.3228, -0.1270,  0.0958,  0.3373,  0.2190, -0.3720, -0.0604,\n",
       "          -0.1748,  1.3338, -0.0841,  0.9726, -0.3892, -0.0772,  1.3123,\n",
       "           0.4460, -0.8828,  1.8881, -1.1301, -0.0923,  1.0196, -0.4815,\n",
       "           1.5254, -1.6693, -0.6652,  2.3452,  0.9648, -2.9998, -1.2285,\n",
       "           0.7596, -1.2862,  0.2150,  1.0041,  0.0393,  0.5717,  0.7662,\n",
       "          -0.2009, -0.4911, -0.3015,  1.2118, -1.5344, -1.7016,  1.1377,\n",
       "          -1.4521,  0.8025,  0.6998, -0.3188,  0.9241,  2.1307, -1.4085,\n",
       "          -0.1057,  0.5557, -1.4818,  0.1127, -2.5061,  0.6879,  0.4768,\n",
       "          -2.0562, -0.1274, -0.2940,  0.6286, -0.1390,  0.2246,  0.9888,\n",
       "           0.2190,  0.0565, -1.4491, -1.0194,  1.3039, -0.0786,  0.8936,\n",
       "          -1.8514,  0.3336,  0.4267,  0.4217,  1.4013, -0.6996, -1.2302,\n",
       "          -0.3702,  1.0444, -0.1820,  1.1425,  2.1422, -1.1184, -1.0019,\n",
       "           0.1358,  0.3949,  0.1912,  0.0033,  0.9990, -0.2290,  0.5474,\n",
       "          -0.4884, -1.2744,  0.0537,  2.2599, -0.0773, -0.1849,  1.7653,\n",
       "          -1.4524,  1.2161,  0.2691,  0.1042, -0.3530, -0.4734,  0.1441,\n",
       "          -0.2400,  0.6400,  0.2541,  0.2704,  0.5063,  0.7797, -1.2137,\n",
       "           1.3931,  0.2950,  1.1089,  0.0180,  1.5335, -0.6780, -1.0176,\n",
       "          -0.3805,  0.1917,  0.0162,  0.5994, -1.5813, -0.5381, -0.0532,\n",
       "          -0.1549,  0.3956,  2.0548, -0.4511, -0.6486,  0.4820,  1.1795,\n",
       "          -0.6558,  0.2718,  1.2808,  0.2392,  0.1065,  0.5764, -0.3172,\n",
       "           0.0377, -0.7624, -0.8769, -1.0080, -1.2915, -0.1687,  0.0728,\n",
       "           0.9233, -0.4133,  0.9015,  1.9702, -1.1074, -2.2679,  0.0434,\n",
       "           1.6314, -0.1792, -0.8115,  0.3711,  0.2960, -1.2281,  0.5465,\n",
       "           0.3726, -1.3127, -0.1889,  1.0836, -0.7073]]], requires_grad=True)"
      ]
     },
     "execution_count": 55,
     "metadata": {},
     "output_type": "execute_result"
    }
   ],
   "source": [
    "embedding_dim = 768\n",
    "class_token = nn.Parameter(torch.randn(1,1,embedding_dim), requires_grad=True)\n",
    "class_token"
   ]
  },
  {
   "cell_type": "code",
   "execution_count": 57,
   "metadata": {},
   "outputs": [
    {
     "data": {
      "text/plain": [
       "3"
      ]
     },
     "execution_count": 57,
     "metadata": {},
     "output_type": "execute_result"
    }
   ],
   "source": [
    "len(class_names)"
   ]
  },
  {
   "cell_type": "code",
   "execution_count": null,
   "metadata": {},
   "outputs": [],
   "source": []
  },
  {
   "cell_type": "code",
   "execution_count": null,
   "metadata": {},
   "outputs": [],
   "source": []
  }
 ],
 "metadata": {
  "kernelspec": {
   "display_name": "Python 3.10.1 64-bit",
   "language": "python",
   "name": "python3"
  },
  "language_info": {
   "codemirror_mode": {
    "name": "ipython",
    "version": 3
   },
   "file_extension": ".py",
   "mimetype": "text/x-python",
   "name": "python",
   "nbconvert_exporter": "python",
   "pygments_lexer": "ipython3",
   "version": "3.10.1"
  },
  "orig_nbformat": 4,
  "vscode": {
   "interpreter": {
    "hash": "aee8b7b246df8f9039afb4144a1f6fd8d2ca17a180786b69acc140d282b71a49"
   }
  }
 },
 "nbformat": 4,
 "nbformat_minor": 2
}
